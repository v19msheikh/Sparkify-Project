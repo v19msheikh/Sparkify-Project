{
 "cells": [
  {
   "cell_type": "markdown",
   "metadata": {},
   "source": [
    "# Sparkify Project Workspace\n",
    "This workspace contains a tiny subset (128MB) of the full dataset available (12GB). Feel free to use this workspace to build your project, or to explore a smaller subset with Spark before deploying your cluster on the cloud. Instructions for setting up your Spark cluster is included in the last lesson of the Extracurricular Spark Course content.\n",
    "\n",
    "You can follow the steps below to guide your data analysis and model building portion of this project."
   ]
  },
  {
   "cell_type": "code",
   "execution_count": 112,
   "metadata": {},
   "outputs": [],
   "source": [
    "# import libraries\n",
    "from pyspark.sql import SparkSession, SQLContext\n",
    "from pyspark.sql.functions import avg, col, concat, desc, explode, lit, min, max, split, udf, count\n",
    "from pyspark.sql.types import IntegerType\n",
    "from pyspark.ml.classification import LogisticRegression, RandomForestClassifier, GBTClassifier\n",
    "from pyspark.ml.feature import StandardScaler,RegexTokenizer, StringIndexer, CountVectorizer, IDF, VectorAssembler, Normalizer\n",
    "from pyspark.ml import Pipeline\n",
    "from pyspark.ml.tuning import CrossValidator, ParamGridBuilder\n",
    "from pyspark.ml.evaluation import BinaryClassificationEvaluator , MulticlassClassificationEvaluator\n",
    "\n",
    "import seaborn as sns\n",
    "import matplotlib.pyplot as plt\n",
    "%matplotlib inline\n",
    "\n",
    "import numpy as np\n",
    "import pandas as pd\n"
   ]
  },
  {
   "cell_type": "code",
   "execution_count": 113,
   "metadata": {},
   "outputs": [],
   "source": [
    "# create a Spark session\n",
    "spark = SparkSession.builder.master(\"local\").appName(\"Capstone_Project\").getOrCreate()"
   ]
  },
  {
   "cell_type": "markdown",
   "metadata": {},
   "source": [
    "# Load and Clean Dataset\n",
    "In this workspace, the mini-dataset file is `mini_sparkify_event_data.json`. Load and clean the dataset, checking for invalid or missing data - for example, records without userids or sessionids. "
   ]
  },
  {
   "cell_type": "code",
   "execution_count": 114,
   "metadata": {
    "scrolled": true
   },
   "outputs": [
    {
     "name": "stdout",
     "output_type": "stream",
     "text": [
      "root\n",
      " |-- artist: string (nullable = true)\n",
      " |-- auth: string (nullable = true)\n",
      " |-- firstName: string (nullable = true)\n",
      " |-- gender: string (nullable = true)\n",
      " |-- itemInSession: long (nullable = true)\n",
      " |-- lastName: string (nullable = true)\n",
      " |-- length: double (nullable = true)\n",
      " |-- level: string (nullable = true)\n",
      " |-- location: string (nullable = true)\n",
      " |-- method: string (nullable = true)\n",
      " |-- page: string (nullable = true)\n",
      " |-- registration: long (nullable = true)\n",
      " |-- sessionId: long (nullable = true)\n",
      " |-- song: string (nullable = true)\n",
      " |-- status: long (nullable = true)\n",
      " |-- ts: long (nullable = true)\n",
      " |-- userAgent: string (nullable = true)\n",
      " |-- userId: string (nullable = true)\n",
      "\n"
     ]
    }
   ],
   "source": [
    "# load data into spark DataFrame\n",
    "\n",
    "mydata = spark.read.json(\"./mini_sparkify_event_data.json\")\n",
    "\n",
    "mydata.printSchema()"
   ]
  },
  {
   "cell_type": "markdown",
   "metadata": {},
   "source": [
    "## Clean Data"
   ]
  },
  {
   "cell_type": "code",
   "execution_count": 115,
   "metadata": {},
   "outputs": [],
   "source": [
    "#Clean Dataset\n",
    "\n",
    "# temp view of the data frame\n",
    "\n",
    "mydata.createOrReplaceTempView('data_tbl')\n",
    "\n"
   ]
  },
  {
   "cell_type": "code",
   "execution_count": 116,
   "metadata": {},
   "outputs": [
    {
     "name": "stdout",
     "output_type": "stream",
     "text": [
      "+------+\n",
      "|UserId|\n",
      "+------+\n",
      "|     0|\n",
      "+------+\n",
      "\n"
     ]
    }
   ],
   "source": [
    "# check if there are nulls in sessionId column\n",
    "\n",
    "spark.sql(\"\"\"\n",
    "            SELECT COUNT(userId) as UserId\n",
    "            FROM data_tbl\n",
    "            WHERE sessionId IS NULL\n",
    "        \"\"\").show()"
   ]
  },
  {
   "cell_type": "code",
   "execution_count": 117,
   "metadata": {},
   "outputs": [
    {
     "name": "stdout",
     "output_type": "stream",
     "text": [
      "+------+\n",
      "|UserId|\n",
      "+------+\n",
      "|     0|\n",
      "+------+\n",
      "\n"
     ]
    }
   ],
   "source": [
    "# check if there are empty sessionIds\n",
    "\n",
    "spark.sql(\"\"\"\n",
    "            SELECT COUNT(userId) as UserId\n",
    "            FROM data_tbl\n",
    "            WHERE sessionId == ''\n",
    "        \"\"\").show()"
   ]
  },
  {
   "cell_type": "code",
   "execution_count": 118,
   "metadata": {},
   "outputs": [
    {
     "name": "stdout",
     "output_type": "stream",
     "text": [
      "+------+\n",
      "|UserId|\n",
      "+------+\n",
      "|     0|\n",
      "+------+\n",
      "\n"
     ]
    }
   ],
   "source": [
    "# check if there are nulls in userId column\n",
    "\n",
    "spark.sql(\"\"\"\n",
    "            SELECT COUNT(userId) as UserId\n",
    "            FROM data_tbl\n",
    "            WHERE userId IS NULL\n",
    "        \"\"\").show()"
   ]
  },
  {
   "cell_type": "code",
   "execution_count": 119,
   "metadata": {},
   "outputs": [
    {
     "name": "stdout",
     "output_type": "stream",
     "text": [
      "+------+\n",
      "|UserId|\n",
      "+------+\n",
      "|  8346|\n",
      "+------+\n",
      "\n"
     ]
    }
   ],
   "source": [
    "# check if there are empty UserIDs\n",
    "\n",
    "spark.sql(\"\"\"\n",
    "            SELECT COUNT(userId) as UserId\n",
    "            FROM data_tbl\n",
    "            WHERE userId == ''\n",
    "        \"\"\").show()"
   ]
  },
  {
   "cell_type": "code",
   "execution_count": 120,
   "metadata": {},
   "outputs": [],
   "source": [
    "# remove the invalid user IDs from the dataset\n",
    "\n",
    "mydata = spark.sql(\"\"\"\n",
    "                    SELECT *\n",
    "                    FROM data_tbl\n",
    "                    WHERE userId != ''\n",
    "                \"\"\")"
   ]
  },
  {
   "cell_type": "code",
   "execution_count": 121,
   "metadata": {},
   "outputs": [],
   "source": [
    "# temporary view of the data frame\n",
    "\n",
    "mydata.createOrReplaceTempView('data_tbl')"
   ]
  },
  {
   "cell_type": "markdown",
   "metadata": {},
   "source": [
    "# Exploratory Data Analysis\n",
    "When you're working with the full dataset, perform EDA by loading a small subset of the data and doing basic manipulations within Spark. In this workspace, you are already provided a small subset of data you can explore.\n",
    "\n",
    "### Define Churn\n",
    "\n",
    "Once you've done some preliminary analysis, create a column `Churn` to use as the label for your model. I suggest using the `Cancellation Confirmation` events to define your churn, which happen for both paid and free users. As a bonus task, you can also look into the `Downgrade` events.\n",
    "\n",
    "### Explore Data\n",
    "Once you've defined churn, perform some exploratory data analysis to observe the behavior for users who stayed vs users who churned. You can start by exploring aggregates on these two groups of users, observing how much of a specific action they experienced per a certain time unit or number of songs played."
   ]
  },
  {
   "cell_type": "code",
   "execution_count": 122,
   "metadata": {
    "scrolled": false
   },
   "outputs": [
    {
     "name": "stdout",
     "output_type": "stream",
     "text": [
      "+--------------------+\n",
      "|                page|\n",
      "+--------------------+\n",
      "|              Cancel|\n",
      "|    Submit Downgrade|\n",
      "|         Thumbs Down|\n",
      "|                Home|\n",
      "|           Downgrade|\n",
      "|         Roll Advert|\n",
      "|              Logout|\n",
      "|       Save Settings|\n",
      "|Cancellation Conf...|\n",
      "|               About|\n",
      "|            Settings|\n",
      "|     Add to Playlist|\n",
      "|          Add Friend|\n",
      "|            NextSong|\n",
      "|           Thumbs Up|\n",
      "|                Help|\n",
      "|             Upgrade|\n",
      "|               Error|\n",
      "|      Submit Upgrade|\n",
      "+--------------------+\n",
      "\n"
     ]
    }
   ],
   "source": [
    "page = mydata.select(\"page\").dropDuplicates().show()\n"
   ]
  },
  {
   "cell_type": "code",
   "execution_count": 123,
   "metadata": {},
   "outputs": [],
   "source": [
    "# create churn user list\n",
    "\n",
    "mydata = spark.sql(\"\"\"\n",
    "                    SELECT *,\n",
    "                           CASE\n",
    "                                WHEN page == 'Cancellation Confirmation' THEN 1\n",
    "                                ELSE 0 END as Churned\n",
    "                    FROM data_tbl\n",
    "                \"\"\")\n",
    "\n",
    "mydata.createOrReplaceTempView('data_tbl')\n",
    "\n",
    "Churned = spark.sql(\"\"\"\n",
    "                            SELECT DISTINCT userID\n",
    "                            FROM data_tbl\n",
    "                            WHERE Churned = 1\n",
    "                        \"\"\").toPandas().values\n",
    "\n",
    "Churned = [user[0] for user in Churned]\n"
   ]
  },
  {
   "cell_type": "code",
   "execution_count": 124,
   "metadata": {},
   "outputs": [
    {
     "data": {
      "text/plain": [
       "DataFrame[Churned: int, count(DISTINCT userId): bigint]"
      ]
     },
     "execution_count": 124,
     "metadata": {},
     "output_type": "execute_result"
    }
   ],
   "source": [
    "#show churned and non-churned user in dataset\n",
    "\n",
    "spark.sql(\"\"\"\n",
    "          SELECT\n",
    "              Churned,\n",
    "              count(distinct userId)\n",
    "            FROM\n",
    "                data_tbl\n",
    "            GROUP BY\n",
    "                Churned\n",
    "            \"\"\")\n"
   ]
  },
  {
   "cell_type": "code",
   "execution_count": 125,
   "metadata": {},
   "outputs": [],
   "source": [
    "#create churn table\n",
    "\n",
    "churn = spark.sql(\"\"\"\n",
    "          SELECT\n",
    "              distinct userId,\n",
    "              Churned\n",
    "            FROM\n",
    "                data_tbl\n",
    "\n",
    "            \"\"\")\n",
    "churn.createOrReplaceTempView('churn')\n"
   ]
  },
  {
   "cell_type": "code",
   "execution_count": 126,
   "metadata": {},
   "outputs": [
    {
     "data": {
      "text/plain": [
       "DataFrame[gender: string, Churned: int, DistinctUsers: bigint]"
      ]
     },
     "execution_count": 126,
     "metadata": {},
     "output_type": "execute_result"
    }
   ],
   "source": [
    "# show  churn in gender\n",
    "\n",
    "spark.sql(\"\"\"\n",
    "          SELECT distinct\n",
    "              gender,\n",
    "              Churned,\n",
    "              count(distinct userId) as DistinctUsers\n",
    "            FROM\n",
    "                data_tbl\n",
    "            GROUP BY\n",
    "                gender,Churned\n",
    "            order by Churned desc\n",
    "            \"\"\")"
   ]
  },
  {
   "cell_type": "markdown",
   "metadata": {},
   "source": [
    "# Feature Engineering\n",
    "Once you've familiarized yourself with the data, build out the features you find promising to train your model on. To work with the full dataset, you can follow the following steps.\n",
    "- Write a script to extract the necessary features from the smaller subset of data\n",
    "- Ensure that your script is scalable, using the best practices discussed in Lesson 3\n",
    "- Try your script on the full data set, debugging your script if necessary\n",
    "\n",
    "If you are working in the classroom workspace, you can just extract features based on the small subset of data contained here. Be sure to transfer over this work to the larger dataset when you work on your Spark cluster."
   ]
  },
  {
   "cell_type": "code",
   "execution_count": 127,
   "metadata": {},
   "outputs": [],
   "source": [
    "#gender feature \" replace str by int values\"\n",
    "\n",
    "\n",
    "gender = mydata.dropDuplicates(['userId']).sort('userId').select(['userId','gender'])\n",
    "gender = gender.replace(['F','M'], ['1', '0'], 'gender')\n",
    "gender = gender.withColumn('gender', gender.gender.cast(\"int\"))\n",
    "\n",
    "gender.createOrReplaceTempView('gender')"
   ]
  },
  {
   "cell_type": "code",
   "execution_count": 128,
   "metadata": {},
   "outputs": [],
   "source": [
    "#number of songs played per user \n",
    "\n",
    "songs = mydata.where(mydata.song!='null').groupby('userId')\n",
    "songs= songs.agg(count(mydata.song).alias('Played_Songs')).orderBy('userId')\n",
    "songs = songs.select(['userId','Played_Songs'])\n",
    "\n",
    "songs.createOrReplaceTempView('songs')"
   ]
  },
  {
   "cell_type": "code",
   "execution_count": 129,
   "metadata": {},
   "outputs": [],
   "source": [
    "# number of listened singers per user \n",
    "\n",
    "listened_singers_per_user = mydata.dropDuplicates(['userId','artist']).groupby('userId')\n",
    "listened_singers_per_user = listened_singers_per_user.agg(count(mydata.artist).alias('Listened_Singers')).orderBy('userId')\n",
    "listened_singers_per_user = listened_singers_per_user.select(['userId','Listened_Singers'])\n",
    "\n",
    "listened_singers_per_user.createOrReplaceTempView('listened_singers_per_user')"
   ]
  },
  {
   "cell_type": "code",
   "execution_count": 130,
   "metadata": {},
   "outputs": [],
   "source": [
    "#thumbs_Down\n",
    "\n",
    "thumbs_Down = mydata.where(mydata.page=='Thumbs Down').groupby(['userId'])\n",
    "thumbs_Down = thumbs_Down.agg(count(col('page')).alias('thumbs_down')).orderBy('userId')\n",
    "thumbs_Down = thumbs_Down.select(['userId','thumbs_down'])\n",
    "\n",
    "thumbs_Down.createOrReplaceTempView('thumbs_Down')"
   ]
  },
  {
   "cell_type": "code",
   "execution_count": 131,
   "metadata": {},
   "outputs": [],
   "source": [
    "#thumbs_Up\n",
    "\n",
    "thumbs_Up = mydata.where(mydata.page=='Thumbs Up').groupby(['userId'])\n",
    "thumbs_Up = thumbs_Up.agg(count(col('page')).alias('thumbs_Up')).orderBy('userId')\n",
    "thumbs_Up = thumbs_Up.select(['userId','thumbs_Up'])\n",
    "\n",
    "thumbs_Up.createOrReplaceTempView('thumbs_Up')"
   ]
  },
  {
   "cell_type": "markdown",
   "metadata": {},
   "source": [
    "# Modeling\n",
    "Split the full dataset into train, test, and validation sets. Test out several of the machine learning methods you learned. Evaluate the accuracy of the various models, tuning parameters as necessary. Determine your winning model based on test accuracy and report results on the validation set. Since the churned users are a fairly small subset, I suggest using F1 score as the metric to optimize."
   ]
  },
  {
   "cell_type": "code",
   "execution_count": 132,
   "metadata": {},
   "outputs": [],
   "source": [
    "# join features\n",
    "\n",
    "Data = churn.dropDuplicates(['userId']).sort('userId').select(['userId','Churned'])\n",
    "for selected_features in [ gender, songs, listened_singers_per_user, thumbs_Up, thumbs_Down]:\n",
    "    Data = Data.join(selected_features,'userId')\n"
   ]
  },
  {
   "cell_type": "code",
   "execution_count": 133,
   "metadata": {},
   "outputs": [],
   "source": [
    "# convert data type into float\n",
    "for selected_features in Data.columns[1:]:\n",
    "    Data = Data.withColumn(selected_features,Data[selected_features].cast('float'))"
   ]
  },
  {
   "cell_type": "code",
   "execution_count": 134,
   "metadata": {},
   "outputs": [
    {
     "data": {
      "text/plain": [
       "[('userId', 'string'),\n",
       " ('Churned', 'float'),\n",
       " ('gender', 'float'),\n",
       " ('Played_Songs', 'float'),\n",
       " ('Listened_Singers', 'float'),\n",
       " ('thumbs_Up', 'float'),\n",
       " ('thumbs_down', 'float')]"
      ]
     },
     "execution_count": 134,
     "metadata": {},
     "output_type": "execute_result"
    }
   ],
   "source": [
    "Data.dtypes"
   ]
  },
  {
   "cell_type": "code",
   "execution_count": 135,
   "metadata": {},
   "outputs": [],
   "source": [
    "# split our data into train and test sets\n",
    "\n",
    "train_set, test_set = Data.randomSplit([0.8, 0.2])"
   ]
  },
  {
   "cell_type": "code",
   "execution_count": 136,
   "metadata": {},
   "outputs": [],
   "source": [
    "assembler = VectorAssembler(inputCols=Data.columns[2:],outputCol='featuresassemble')\n",
    "scaler = StandardScaler(inputCol=\"featuresassemble\", outputCol=\"features\")\n",
    "indexer = StringIndexer(inputCol=\"Churned\", outputCol=\"label\")\n",
    "stringIndexer = StringIndexer(inputCol=\"label\", outputCol=\"indexed\")\n",
    "RandomForestClassifier = RandomForestClassifier(numTrees=3, maxDepth=2, labelCol=\"indexed\")\n",
    "LogisticRegression =  LogisticRegression(maxIter=100, regParam=0.0, elasticNetParam=0)"
   ]
  },
  {
   "cell_type": "code",
   "execution_count": 137,
   "metadata": {},
   "outputs": [
    {
     "data": {
      "text/plain": [
       "[0.6658790392910175, 0.7057689613270375, 0.7096003789515586]"
      ]
     },
     "execution_count": 137,
     "metadata": {},
     "output_type": "execute_result"
    }
   ],
   "source": [
    "LogisticRegression_pipeline = Pipeline(stages=[assembler, scaler, indexer, LogisticRegression])\n",
    "\n",
    "paramGrid_LogisticRegression = ParamGridBuilder().addGrid(LogisticRegression.regParam,[0.0, 0.1, 0.01]).build()\n",
    "\n",
    "CrossValidator_LogisticRegression = CrossValidator(estimator=LogisticRegression_pipeline,estimatorParamMaps=paramGrid_LogisticRegression,\n",
    "                                    evaluator=BinaryClassificationEvaluator(),numFolds=3)\n",
    "\n",
    "CrossValidator_LogisticRegression_Model = CrossValidator_LogisticRegression.fit(train_set)\n",
    "\n",
    "CrossValidator_LogisticRegression_Model.avgMetrics"
   ]
  },
  {
   "cell_type": "markdown",
   "metadata": {},
   "source": [
    "# Final Steps\n",
    "Clean up your code, adding comments and renaming variables to make the code easier to read and maintain. Refer to the Spark Project Overview page and Data Scientist Capstone Project Rubric to make sure you are including all components of the capstone project and meet all expectations. Remember, this includes thorough documentation in a README file in a Github repository, as well as a web app or blog post."
   ]
  },
  {
   "cell_type": "code",
   "execution_count": null,
   "metadata": {},
   "outputs": [],
   "source": []
  }
 ],
 "metadata": {
  "kernelspec": {
   "display_name": "Python 3",
   "language": "python",
   "name": "python3"
  },
  "language_info": {
   "codemirror_mode": {
    "name": "ipython",
    "version": 3
   },
   "file_extension": ".py",
   "mimetype": "text/x-python",
   "name": "python",
   "nbconvert_exporter": "python",
   "pygments_lexer": "ipython3",
   "version": "3.6.3"
  }
 },
 "nbformat": 4,
 "nbformat_minor": 2
}
