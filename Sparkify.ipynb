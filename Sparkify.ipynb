{
 "cells": [
  {
   "cell_type": "markdown",
   "metadata": {},
   "source": [
    "# Sparkify Project Workspace\n",
    "This workspace contains a tiny subset (128MB) of the full dataset available (12GB). Feel free to use this workspace to build your project, or to explore a smaller subset with Spark before deploying your cluster on the cloud. Instructions for setting up your Spark cluster is included in the last lesson of the Extracurricular Spark Course content.\n",
    "\n",
    "You can follow the steps below to guide your data analysis and model building portion of this project."
   ]
  },
  {
   "cell_type": "code",
   "execution_count": 75,
   "metadata": {},
   "outputs": [],
   "source": [
    "# import libraries\n",
    "from pyspark.sql import SparkSession, SQLContext , Window\n",
    "from pyspark.sql.functions import avg, col, concat, desc, explode, lit, min, max, split, udf, count,sum as Fsum\n",
    "from pyspark.sql.types import IntegerType\n",
    "from pyspark.ml.classification import LogisticRegression, RandomForestClassifier, GBTClassifier\n",
    "from pyspark.ml.feature import StandardScaler,RegexTokenizer, StringIndexer, CountVectorizer, IDF, VectorAssembler, Normalizer\n",
    "from pyspark.ml import Pipeline\n",
    "from pyspark.ml.tuning import CrossValidator, ParamGridBuilder\n",
    "from pyspark.ml.evaluation import BinaryClassificationEvaluator , MulticlassClassificationEvaluator\n",
    "from time import time\n",
    "\n",
    "import seaborn as sns\n",
    "import matplotlib.pyplot as plt\n",
    "%matplotlib inline\n",
    "\n",
    "import numpy as np\n",
    "import pandas as pd\n",
    "\n"
   ]
  },
  {
   "cell_type": "code",
   "execution_count": 76,
   "metadata": {},
   "outputs": [],
   "source": [
    "# create a Spark session\n",
    "spark = SparkSession.builder.master(\"local\").appName(\"Capstone_Project\").getOrCreate()"
   ]
  },
  {
   "cell_type": "markdown",
   "metadata": {},
   "source": [
    "# Load and Clean Dataset\n",
    "In this workspace, the mini-dataset file is `mini_sparkify_event_data.json`. Load and clean the dataset, checking for invalid or missing data - for example, records without userids or sessionids. "
   ]
  },
  {
   "cell_type": "code",
   "execution_count": 77,
   "metadata": {
    "scrolled": false
   },
   "outputs": [
    {
     "name": "stdout",
     "output_type": "stream",
     "text": [
      "root\n",
      " |-- artist: string (nullable = true)\n",
      " |-- auth: string (nullable = true)\n",
      " |-- firstName: string (nullable = true)\n",
      " |-- gender: string (nullable = true)\n",
      " |-- itemInSession: long (nullable = true)\n",
      " |-- lastName: string (nullable = true)\n",
      " |-- length: double (nullable = true)\n",
      " |-- level: string (nullable = true)\n",
      " |-- location: string (nullable = true)\n",
      " |-- method: string (nullable = true)\n",
      " |-- page: string (nullable = true)\n",
      " |-- registration: long (nullable = true)\n",
      " |-- sessionId: long (nullable = true)\n",
      " |-- song: string (nullable = true)\n",
      " |-- status: long (nullable = true)\n",
      " |-- ts: long (nullable = true)\n",
      " |-- userAgent: string (nullable = true)\n",
      " |-- userId: string (nullable = true)\n",
      "\n"
     ]
    }
   ],
   "source": [
    "# load data into spark DataFrame\n",
    "\n",
    "mydata = spark.read.json(\"./mini_sparkify_event_data.json\")\n",
    "\n",
    "mydata.printSchema()"
   ]
  },
  {
   "cell_type": "markdown",
   "metadata": {},
   "source": [
    "## Clean Data"
   ]
  },
  {
   "cell_type": "code",
   "execution_count": 78,
   "metadata": {},
   "outputs": [],
   "source": [
    "#Clean Dataset\n",
    "\n",
    "# temp view of the data frame\n",
    "\n",
    "mydata.createOrReplaceTempView('data_tbl')\n",
    "\n"
   ]
  },
  {
   "cell_type": "code",
   "execution_count": 79,
   "metadata": {},
   "outputs": [
    {
     "name": "stdout",
     "output_type": "stream",
     "text": [
      "+------+\n",
      "|UserId|\n",
      "+------+\n",
      "|     0|\n",
      "+------+\n",
      "\n"
     ]
    }
   ],
   "source": [
    "# check if there are nulls in sessionId column\n",
    "\n",
    "spark.sql(\"\"\"\n",
    "            SELECT COUNT(userId) as UserId\n",
    "            FROM data_tbl\n",
    "            WHERE sessionId IS NULL\n",
    "        \"\"\").show()"
   ]
  },
  {
   "cell_type": "code",
   "execution_count": 80,
   "metadata": {},
   "outputs": [
    {
     "name": "stdout",
     "output_type": "stream",
     "text": [
      "+------+\n",
      "|UserId|\n",
      "+------+\n",
      "|     0|\n",
      "+------+\n",
      "\n"
     ]
    }
   ],
   "source": [
    "# check if there are empty sessionIds\n",
    "\n",
    "spark.sql(\"\"\"\n",
    "            SELECT COUNT(userId) as UserId\n",
    "            FROM data_tbl\n",
    "            WHERE sessionId == ''\n",
    "        \"\"\").show()"
   ]
  },
  {
   "cell_type": "code",
   "execution_count": 81,
   "metadata": {},
   "outputs": [
    {
     "name": "stdout",
     "output_type": "stream",
     "text": [
      "+------+\n",
      "|UserId|\n",
      "+------+\n",
      "|     0|\n",
      "+------+\n",
      "\n"
     ]
    }
   ],
   "source": [
    "# check if there are nulls in userId column\n",
    "\n",
    "spark.sql(\"\"\"\n",
    "            SELECT COUNT(userId) as UserId\n",
    "            FROM data_tbl\n",
    "            WHERE userId IS NULL\n",
    "        \"\"\").show()"
   ]
  },
  {
   "cell_type": "code",
   "execution_count": 82,
   "metadata": {},
   "outputs": [
    {
     "name": "stdout",
     "output_type": "stream",
     "text": [
      "+------+\n",
      "|UserId|\n",
      "+------+\n",
      "|  8346|\n",
      "+------+\n",
      "\n"
     ]
    }
   ],
   "source": [
    "# check if there are empty UserIDs\n",
    "\n",
    "spark.sql(\"\"\"\n",
    "            SELECT COUNT(userId) as UserId\n",
    "            FROM data_tbl\n",
    "            WHERE userId == ''\n",
    "        \"\"\").show()"
   ]
  },
  {
   "cell_type": "code",
   "execution_count": 83,
   "metadata": {},
   "outputs": [],
   "source": [
    "# remove the invalid user IDs from the dataset\n",
    "\n",
    "mydata = spark.sql(\"\"\"\n",
    "                    SELECT *\n",
    "                    FROM data_tbl\n",
    "                    WHERE userId != ''\n",
    "                \"\"\")"
   ]
  },
  {
   "cell_type": "code",
   "execution_count": 84,
   "metadata": {},
   "outputs": [],
   "source": [
    "# temporary view of the data frame\n",
    "\n",
    "mydata.createOrReplaceTempView('data_tbl')"
   ]
  },
  {
   "cell_type": "markdown",
   "metadata": {},
   "source": [
    "# Exploratory Data Analysis\n",
    "When you're working with the full dataset, perform EDA by loading a small subset of the data and doing basic manipulations within Spark. In this workspace, you are already provided a small subset of data you can explore.\n",
    "\n",
    "### Define Churn\n",
    "\n",
    "Once you've done some preliminary analysis, create a column `Churn` to use as the label for your model. I suggest using the `Cancellation Confirmation` events to define your churn, which happen for both paid and free users. As a bonus task, you can also look into the `Downgrade` events.\n"
   ]
  },
  {
   "cell_type": "code",
   "execution_count": 85,
   "metadata": {
    "scrolled": false
   },
   "outputs": [
    {
     "name": "stdout",
     "output_type": "stream",
     "text": [
      "+--------------------+\n",
      "|                page|\n",
      "+--------------------+\n",
      "|              Cancel|\n",
      "|    Submit Downgrade|\n",
      "|         Thumbs Down|\n",
      "|                Home|\n",
      "|           Downgrade|\n",
      "|         Roll Advert|\n",
      "|              Logout|\n",
      "|       Save Settings|\n",
      "|Cancellation Conf...|\n",
      "|               About|\n",
      "|            Settings|\n",
      "|     Add to Playlist|\n",
      "|          Add Friend|\n",
      "|            NextSong|\n",
      "|           Thumbs Up|\n",
      "|                Help|\n",
      "|             Upgrade|\n",
      "|               Error|\n",
      "|      Submit Upgrade|\n",
      "+--------------------+\n",
      "\n"
     ]
    }
   ],
   "source": [
    "page = mydata.select(\"page\").dropDuplicates().show()\n"
   ]
  },
  {
   "cell_type": "code",
   "execution_count": 86,
   "metadata": {},
   "outputs": [],
   "source": [
    "# create churn user list\n",
    "\n",
    "mydata = spark.sql(\"\"\"\n",
    "                    SELECT *,\n",
    "                           CASE\n",
    "                                WHEN page == 'Cancellation Confirmation' THEN 1\n",
    "                                ELSE 0 END as Churned\n",
    "                    FROM data_tbl\n",
    "                \"\"\")\n",
    "\n",
    "mydata.createOrReplaceTempView('data_tbl')\n",
    "\n",
    "Churned = spark.sql(\"\"\"\n",
    "                            SELECT DISTINCT userID\n",
    "                            FROM data_tbl\n",
    "                            WHERE Churned = 1\n",
    "                        \"\"\").toPandas().values\n",
    "\n",
    "Churned = [user[0] for user in Churned]\n"
   ]
  },
  {
   "cell_type": "code",
   "execution_count": 87,
   "metadata": {},
   "outputs": [
    {
     "data": {
      "text/plain": [
       "DataFrame[Churned: int, count(DISTINCT userId): bigint]"
      ]
     },
     "execution_count": 87,
     "metadata": {},
     "output_type": "execute_result"
    }
   ],
   "source": [
    "#show churned and non-churned user in dataset\n",
    "\n",
    "spark.sql(\"\"\"\n",
    "          SELECT\n",
    "              Churned,\n",
    "              count(distinct userId)\n",
    "            FROM\n",
    "                data_tbl\n",
    "            GROUP BY\n",
    "                Churned\n",
    "            \"\"\")\n"
   ]
  },
  {
   "cell_type": "code",
   "execution_count": 88,
   "metadata": {},
   "outputs": [],
   "source": [
    "#create churn table\n",
    "\n",
    "churn = spark.sql(\"\"\"\n",
    "          SELECT\n",
    "              distinct userId,\n",
    "              Churned\n",
    "            FROM\n",
    "                data_tbl\n",
    "\n",
    "            \"\"\")\n",
    "churn.createOrReplaceTempView('churn')\n"
   ]
  },
  {
   "cell_type": "code",
   "execution_count": 89,
   "metadata": {},
   "outputs": [
    {
     "data": {
      "text/plain": [
       "DataFrame[gender: string, Churned: int, DistinctUsers: bigint]"
      ]
     },
     "execution_count": 89,
     "metadata": {},
     "output_type": "execute_result"
    }
   ],
   "source": [
    "# show  churn in gender\n",
    "\n",
    "spark.sql(\"\"\"\n",
    "          SELECT distinct\n",
    "              gender,\n",
    "              Churned,\n",
    "              count(distinct userId) as DistinctUsers\n",
    "            FROM\n",
    "                data_tbl\n",
    "            GROUP BY\n",
    "                gender,Churned\n",
    "            order by Churned desc\n",
    "            \"\"\")"
   ]
  },
  {
   "cell_type": "markdown",
   "metadata": {},
   "source": [
    "### Explore Data\n",
    "Once you've defined churn, perform some exploratory data analysis to observe the behavior for users who stayed vs users who churned. You can start by exploring aggregates on these two groups of users, observing how much of a specific action they experienced per a certain time unit or number of songs played."
   ]
  },
  {
   "cell_type": "code",
   "execution_count": 90,
   "metadata": {},
   "outputs": [],
   "source": [
    "explore_data = mydata.toPandas()"
   ]
  },
  {
   "cell_type": "code",
   "execution_count": 125,
   "metadata": {},
   "outputs": [],
   "source": [
    "explore_data.drop('Churned',axis='columns', inplace=True)"
   ]
  },
  {
   "cell_type": "code",
   "execution_count": 126,
   "metadata": {},
   "outputs": [
    {
     "data": {
      "text/html": [
       "<div>\n",
       "<style scoped>\n",
       "    .dataframe tbody tr th:only-of-type {\n",
       "        vertical-align: middle;\n",
       "    }\n",
       "\n",
       "    .dataframe tbody tr th {\n",
       "        vertical-align: top;\n",
       "    }\n",
       "\n",
       "    .dataframe thead th {\n",
       "        text-align: right;\n",
       "    }\n",
       "</style>\n",
       "<table border=\"1\" class=\"dataframe\">\n",
       "  <thead>\n",
       "    <tr style=\"text-align: right;\">\n",
       "      <th></th>\n",
       "      <th>artist</th>\n",
       "      <th>auth</th>\n",
       "      <th>firstName</th>\n",
       "      <th>gender</th>\n",
       "      <th>itemInSession</th>\n",
       "      <th>lastName</th>\n",
       "      <th>length</th>\n",
       "      <th>level</th>\n",
       "      <th>location</th>\n",
       "      <th>method</th>\n",
       "      <th>page</th>\n",
       "      <th>registration</th>\n",
       "      <th>sessionId</th>\n",
       "      <th>song</th>\n",
       "      <th>status</th>\n",
       "      <th>ts</th>\n",
       "      <th>userAgent</th>\n",
       "      <th>userId</th>\n",
       "      <th>churn</th>\n",
       "    </tr>\n",
       "  </thead>\n",
       "  <tbody>\n",
       "    <tr>\n",
       "      <th>0</th>\n",
       "      <td>Sleeping With Sirens</td>\n",
       "      <td>Logged In</td>\n",
       "      <td>Darianna</td>\n",
       "      <td>F</td>\n",
       "      <td>0</td>\n",
       "      <td>Carpenter</td>\n",
       "      <td>202.97098</td>\n",
       "      <td>free</td>\n",
       "      <td>Bridgeport-Stamford-Norwalk, CT</td>\n",
       "      <td>PUT</td>\n",
       "      <td>NextSong</td>\n",
       "      <td>1538016340000</td>\n",
       "      <td>31</td>\n",
       "      <td>Captain Tyin Knots VS Mr Walkway (No Way)</td>\n",
       "      <td>200</td>\n",
       "      <td>1539003534000</td>\n",
       "      <td>\"Mozilla/5.0 (iPhone; CPU iPhone OS 7_1_2 like...</td>\n",
       "      <td>100010</td>\n",
       "      <td>0</td>\n",
       "    </tr>\n",
       "    <tr>\n",
       "      <th>1</th>\n",
       "      <td>Francesca Battistelli</td>\n",
       "      <td>Logged In</td>\n",
       "      <td>Darianna</td>\n",
       "      <td>F</td>\n",
       "      <td>1</td>\n",
       "      <td>Carpenter</td>\n",
       "      <td>196.54485</td>\n",
       "      <td>free</td>\n",
       "      <td>Bridgeport-Stamford-Norwalk, CT</td>\n",
       "      <td>PUT</td>\n",
       "      <td>NextSong</td>\n",
       "      <td>1538016340000</td>\n",
       "      <td>31</td>\n",
       "      <td>Beautiful_ Beautiful (Album)</td>\n",
       "      <td>200</td>\n",
       "      <td>1539003736000</td>\n",
       "      <td>\"Mozilla/5.0 (iPhone; CPU iPhone OS 7_1_2 like...</td>\n",
       "      <td>100010</td>\n",
       "      <td>0</td>\n",
       "    </tr>\n",
       "    <tr>\n",
       "      <th>2</th>\n",
       "      <td>Brutha</td>\n",
       "      <td>Logged In</td>\n",
       "      <td>Darianna</td>\n",
       "      <td>F</td>\n",
       "      <td>2</td>\n",
       "      <td>Carpenter</td>\n",
       "      <td>263.13098</td>\n",
       "      <td>free</td>\n",
       "      <td>Bridgeport-Stamford-Norwalk, CT</td>\n",
       "      <td>PUT</td>\n",
       "      <td>NextSong</td>\n",
       "      <td>1538016340000</td>\n",
       "      <td>31</td>\n",
       "      <td>She's Gone</td>\n",
       "      <td>200</td>\n",
       "      <td>1539003932000</td>\n",
       "      <td>\"Mozilla/5.0 (iPhone; CPU iPhone OS 7_1_2 like...</td>\n",
       "      <td>100010</td>\n",
       "      <td>0</td>\n",
       "    </tr>\n",
       "    <tr>\n",
       "      <th>3</th>\n",
       "      <td>None</td>\n",
       "      <td>Logged In</td>\n",
       "      <td>Darianna</td>\n",
       "      <td>F</td>\n",
       "      <td>3</td>\n",
       "      <td>Carpenter</td>\n",
       "      <td>NaN</td>\n",
       "      <td>free</td>\n",
       "      <td>Bridgeport-Stamford-Norwalk, CT</td>\n",
       "      <td>PUT</td>\n",
       "      <td>Thumbs Up</td>\n",
       "      <td>1538016340000</td>\n",
       "      <td>31</td>\n",
       "      <td>None</td>\n",
       "      <td>307</td>\n",
       "      <td>1539003933000</td>\n",
       "      <td>\"Mozilla/5.0 (iPhone; CPU iPhone OS 7_1_2 like...</td>\n",
       "      <td>100010</td>\n",
       "      <td>0</td>\n",
       "    </tr>\n",
       "    <tr>\n",
       "      <th>4</th>\n",
       "      <td>Josh Ritter</td>\n",
       "      <td>Logged In</td>\n",
       "      <td>Darianna</td>\n",
       "      <td>F</td>\n",
       "      <td>4</td>\n",
       "      <td>Carpenter</td>\n",
       "      <td>316.23791</td>\n",
       "      <td>free</td>\n",
       "      <td>Bridgeport-Stamford-Norwalk, CT</td>\n",
       "      <td>PUT</td>\n",
       "      <td>NextSong</td>\n",
       "      <td>1538016340000</td>\n",
       "      <td>31</td>\n",
       "      <td>Folk Bloodbath</td>\n",
       "      <td>200</td>\n",
       "      <td>1539004195000</td>\n",
       "      <td>\"Mozilla/5.0 (iPhone; CPU iPhone OS 7_1_2 like...</td>\n",
       "      <td>100010</td>\n",
       "      <td>0</td>\n",
       "    </tr>\n",
       "  </tbody>\n",
       "</table>\n",
       "</div>"
      ],
      "text/plain": [
       "                  artist       auth firstName gender  itemInSession  \\\n",
       "0   Sleeping With Sirens  Logged In  Darianna      F              0   \n",
       "1  Francesca Battistelli  Logged In  Darianna      F              1   \n",
       "2                 Brutha  Logged In  Darianna      F              2   \n",
       "3                   None  Logged In  Darianna      F              3   \n",
       "4            Josh Ritter  Logged In  Darianna      F              4   \n",
       "\n",
       "    lastName     length level                         location method  \\\n",
       "0  Carpenter  202.97098  free  Bridgeport-Stamford-Norwalk, CT    PUT   \n",
       "1  Carpenter  196.54485  free  Bridgeport-Stamford-Norwalk, CT    PUT   \n",
       "2  Carpenter  263.13098  free  Bridgeport-Stamford-Norwalk, CT    PUT   \n",
       "3  Carpenter        NaN  free  Bridgeport-Stamford-Norwalk, CT    PUT   \n",
       "4  Carpenter  316.23791  free  Bridgeport-Stamford-Norwalk, CT    PUT   \n",
       "\n",
       "        page   registration  sessionId  \\\n",
       "0   NextSong  1538016340000         31   \n",
       "1   NextSong  1538016340000         31   \n",
       "2   NextSong  1538016340000         31   \n",
       "3  Thumbs Up  1538016340000         31   \n",
       "4   NextSong  1538016340000         31   \n",
       "\n",
       "                                        song  status             ts  \\\n",
       "0  Captain Tyin Knots VS Mr Walkway (No Way)     200  1539003534000   \n",
       "1               Beautiful_ Beautiful (Album)     200  1539003736000   \n",
       "2                                 She's Gone     200  1539003932000   \n",
       "3                                       None     307  1539003933000   \n",
       "4                             Folk Bloodbath     200  1539004195000   \n",
       "\n",
       "                                           userAgent  userId  churn  \n",
       "0  \"Mozilla/5.0 (iPhone; CPU iPhone OS 7_1_2 like...  100010      0  \n",
       "1  \"Mozilla/5.0 (iPhone; CPU iPhone OS 7_1_2 like...  100010      0  \n",
       "2  \"Mozilla/5.0 (iPhone; CPU iPhone OS 7_1_2 like...  100010      0  \n",
       "3  \"Mozilla/5.0 (iPhone; CPU iPhone OS 7_1_2 like...  100010      0  \n",
       "4  \"Mozilla/5.0 (iPhone; CPU iPhone OS 7_1_2 like...  100010      0  "
      ]
     },
     "execution_count": 126,
     "metadata": {},
     "output_type": "execute_result"
    }
   ],
   "source": [
    "explore_data.head()"
   ]
  },
  {
   "cell_type": "code",
   "execution_count": 127,
   "metadata": {},
   "outputs": [
    {
     "data": {
      "text/html": [
       "<div>\n",
       "<style scoped>\n",
       "    .dataframe tbody tr th:only-of-type {\n",
       "        vertical-align: middle;\n",
       "    }\n",
       "\n",
       "    .dataframe tbody tr th {\n",
       "        vertical-align: top;\n",
       "    }\n",
       "\n",
       "    .dataframe thead th {\n",
       "        text-align: right;\n",
       "    }\n",
       "</style>\n",
       "<table border=\"1\" class=\"dataframe\">\n",
       "  <thead>\n",
       "    <tr style=\"text-align: right;\">\n",
       "      <th></th>\n",
       "      <th>itemInSession</th>\n",
       "      <th>length</th>\n",
       "      <th>registration</th>\n",
       "      <th>sessionId</th>\n",
       "      <th>status</th>\n",
       "      <th>ts</th>\n",
       "      <th>churn</th>\n",
       "    </tr>\n",
       "  </thead>\n",
       "  <tbody>\n",
       "    <tr>\n",
       "      <th>count</th>\n",
       "      <td>278154.000000</td>\n",
       "      <td>228108.000000</td>\n",
       "      <td>2.781540e+05</td>\n",
       "      <td>278154.000000</td>\n",
       "      <td>278154.000000</td>\n",
       "      <td>2.781540e+05</td>\n",
       "      <td>278154.000000</td>\n",
       "    </tr>\n",
       "    <tr>\n",
       "      <th>mean</th>\n",
       "      <td>114.899182</td>\n",
       "      <td>249.117182</td>\n",
       "      <td>1.535359e+12</td>\n",
       "      <td>1042.561624</td>\n",
       "      <td>209.103216</td>\n",
       "      <td>1.540959e+12</td>\n",
       "      <td>0.161292</td>\n",
       "    </tr>\n",
       "    <tr>\n",
       "      <th>std</th>\n",
       "      <td>129.851729</td>\n",
       "      <td>99.235179</td>\n",
       "      <td>3.291322e+09</td>\n",
       "      <td>726.501036</td>\n",
       "      <td>30.151389</td>\n",
       "      <td>1.506829e+09</td>\n",
       "      <td>0.367801</td>\n",
       "    </tr>\n",
       "    <tr>\n",
       "      <th>min</th>\n",
       "      <td>0.000000</td>\n",
       "      <td>0.783220</td>\n",
       "      <td>1.521381e+12</td>\n",
       "      <td>1.000000</td>\n",
       "      <td>200.000000</td>\n",
       "      <td>1.538352e+12</td>\n",
       "      <td>0.000000</td>\n",
       "    </tr>\n",
       "    <tr>\n",
       "      <th>25%</th>\n",
       "      <td>27.000000</td>\n",
       "      <td>199.888530</td>\n",
       "      <td>1.533522e+12</td>\n",
       "      <td>338.000000</td>\n",
       "      <td>200.000000</td>\n",
       "      <td>1.539699e+12</td>\n",
       "      <td>0.000000</td>\n",
       "    </tr>\n",
       "    <tr>\n",
       "      <th>50%</th>\n",
       "      <td>70.000000</td>\n",
       "      <td>234.500770</td>\n",
       "      <td>1.536664e+12</td>\n",
       "      <td>1017.000000</td>\n",
       "      <td>200.000000</td>\n",
       "      <td>1.540934e+12</td>\n",
       "      <td>0.000000</td>\n",
       "    </tr>\n",
       "    <tr>\n",
       "      <th>75%</th>\n",
       "      <td>157.000000</td>\n",
       "      <td>277.158730</td>\n",
       "      <td>1.537672e+12</td>\n",
       "      <td>1675.000000</td>\n",
       "      <td>200.000000</td>\n",
       "      <td>1.542268e+12</td>\n",
       "      <td>0.000000</td>\n",
       "    </tr>\n",
       "    <tr>\n",
       "      <th>max</th>\n",
       "      <td>1321.000000</td>\n",
       "      <td>3024.665670</td>\n",
       "      <td>1.543247e+12</td>\n",
       "      <td>2474.000000</td>\n",
       "      <td>404.000000</td>\n",
       "      <td>1.543799e+12</td>\n",
       "      <td>1.000000</td>\n",
       "    </tr>\n",
       "  </tbody>\n",
       "</table>\n",
       "</div>"
      ],
      "text/plain": [
       "       itemInSession         length  registration      sessionId  \\\n",
       "count  278154.000000  228108.000000  2.781540e+05  278154.000000   \n",
       "mean      114.899182     249.117182  1.535359e+12    1042.561624   \n",
       "std       129.851729      99.235179  3.291322e+09     726.501036   \n",
       "min         0.000000       0.783220  1.521381e+12       1.000000   \n",
       "25%        27.000000     199.888530  1.533522e+12     338.000000   \n",
       "50%        70.000000     234.500770  1.536664e+12    1017.000000   \n",
       "75%       157.000000     277.158730  1.537672e+12    1675.000000   \n",
       "max      1321.000000    3024.665670  1.543247e+12    2474.000000   \n",
       "\n",
       "              status            ts          churn  \n",
       "count  278154.000000  2.781540e+05  278154.000000  \n",
       "mean      209.103216  1.540959e+12       0.161292  \n",
       "std        30.151389  1.506829e+09       0.367801  \n",
       "min       200.000000  1.538352e+12       0.000000  \n",
       "25%       200.000000  1.539699e+12       0.000000  \n",
       "50%       200.000000  1.540934e+12       0.000000  \n",
       "75%       200.000000  1.542268e+12       0.000000  \n",
       "max       404.000000  1.543799e+12       1.000000  "
      ]
     },
     "execution_count": 127,
     "metadata": {},
     "output_type": "execute_result"
    }
   ],
   "source": [
    "explore_data.describe()"
   ]
  },
  {
   "cell_type": "code",
   "execution_count": 128,
   "metadata": {},
   "outputs": [
    {
     "name": "stdout",
     "output_type": "stream",
     "text": [
      "<class 'pandas.core.frame.DataFrame'>\n",
      "RangeIndex: 278154 entries, 0 to 278153\n",
      "Data columns (total 19 columns):\n",
      "artist           228108 non-null object\n",
      "auth             278154 non-null object\n",
      "firstName        278154 non-null object\n",
      "gender           278154 non-null object\n",
      "itemInSession    278154 non-null int64\n",
      "lastName         278154 non-null object\n",
      "length           228108 non-null float64\n",
      "level            278154 non-null object\n",
      "location         278154 non-null object\n",
      "method           278154 non-null object\n",
      "page             278154 non-null object\n",
      "registration     278154 non-null int64\n",
      "sessionId        278154 non-null int64\n",
      "song             228108 non-null object\n",
      "status           278154 non-null int64\n",
      "ts               278154 non-null int64\n",
      "userAgent        278154 non-null object\n",
      "userId           278154 non-null object\n",
      "churn            278154 non-null int64\n",
      "dtypes: float64(1), int64(6), object(12)\n",
      "memory usage: 40.3+ MB\n"
     ]
    }
   ],
   "source": [
    "explore_data.info()"
   ]
  },
  {
   "cell_type": "code",
   "execution_count": 129,
   "metadata": {},
   "outputs": [],
   "source": [
    "# from checking if there are empty UserIDs above\n",
    "# we will drop empty values\n",
    "explore_data = explore_data.filter(explore_data.userId != '')"
   ]
  },
  {
   "cell_type": "code",
   "execution_count": 130,
   "metadata": {},
   "outputs": [],
   "source": [
    "cancelation_flag = udf(lambda x: 1 if x == \"Cancellation Confirmation\" else 0, IntegerType())"
   ]
  },
  {
   "cell_type": "code",
   "execution_count": 131,
   "metadata": {},
   "outputs": [],
   "source": [
    "explore_data = mydata.withColumn(\"churn\", cancelation_flag(\"page\"))\n",
    "window_value = Window.partitionBy(\"userId\").rangeBetween(Window.unboundedPreceding, Window.unboundedFollowing)"
   ]
  },
  {
   "cell_type": "code",
   "execution_count": 132,
   "metadata": {},
   "outputs": [],
   "source": [
    "explore_data = explore_data.withColumn(\"churn\", Fsum(\"churn\").over(window_value))"
   ]
  },
  {
   "cell_type": "code",
   "execution_count": 133,
   "metadata": {},
   "outputs": [],
   "source": [
    "explore_data = explore_data.toPandas()"
   ]
  },
  {
   "cell_type": "code",
   "execution_count": 142,
   "metadata": {},
   "outputs": [
    {
     "data": {
      "text/html": [
       "<div>\n",
       "<style scoped>\n",
       "    .dataframe tbody tr th:only-of-type {\n",
       "        vertical-align: middle;\n",
       "    }\n",
       "\n",
       "    .dataframe tbody tr th {\n",
       "        vertical-align: top;\n",
       "    }\n",
       "\n",
       "    .dataframe thead th {\n",
       "        text-align: right;\n",
       "    }\n",
       "</style>\n",
       "<table border=\"1\" class=\"dataframe\">\n",
       "  <thead>\n",
       "    <tr style=\"text-align: right;\">\n",
       "      <th></th>\n",
       "      <th>artist</th>\n",
       "      <th>auth</th>\n",
       "      <th>firstName</th>\n",
       "      <th>gender</th>\n",
       "      <th>itemInSession</th>\n",
       "      <th>lastName</th>\n",
       "      <th>length</th>\n",
       "      <th>level</th>\n",
       "      <th>location</th>\n",
       "      <th>method</th>\n",
       "      <th>page</th>\n",
       "      <th>registration</th>\n",
       "      <th>sessionId</th>\n",
       "      <th>song</th>\n",
       "      <th>status</th>\n",
       "      <th>ts</th>\n",
       "      <th>userAgent</th>\n",
       "      <th>userId</th>\n",
       "      <th>Churned</th>\n",
       "      <th>churn</th>\n",
       "    </tr>\n",
       "  </thead>\n",
       "  <tbody>\n",
       "    <tr>\n",
       "      <th>187258</th>\n",
       "      <td>The xx</td>\n",
       "      <td>Logged In</td>\n",
       "      <td>Elias</td>\n",
       "      <td>M</td>\n",
       "      <td>30</td>\n",
       "      <td>Love</td>\n",
       "      <td>313.39057</td>\n",
       "      <td>paid</td>\n",
       "      <td>Salinas, CA</td>\n",
       "      <td>PUT</td>\n",
       "      <td>NextSong</td>\n",
       "      <td>1532696273000</td>\n",
       "      <td>348</td>\n",
       "      <td>Infinity</td>\n",
       "      <td>200</td>\n",
       "      <td>1542409487000</td>\n",
       "      <td>\"Mozilla/5.0 (Windows NT 6.1; WOW64) AppleWebK...</td>\n",
       "      <td>200025</td>\n",
       "      <td>0</td>\n",
       "      <td>0</td>\n",
       "    </tr>\n",
       "    <tr>\n",
       "      <th>52080</th>\n",
       "      <td>None</td>\n",
       "      <td>Logged In</td>\n",
       "      <td>Brayden</td>\n",
       "      <td>M</td>\n",
       "      <td>30</td>\n",
       "      <td>Thomas</td>\n",
       "      <td>NaN</td>\n",
       "      <td>paid</td>\n",
       "      <td>Los Angeles-Long Beach-Anaheim, CA</td>\n",
       "      <td>GET</td>\n",
       "      <td>Home</td>\n",
       "      <td>1534133898000</td>\n",
       "      <td>734</td>\n",
       "      <td>None</td>\n",
       "      <td>200</td>\n",
       "      <td>1539320124000</td>\n",
       "      <td>\"Mozilla/5.0 (Macintosh; Intel Mac OS X 10_9_4...</td>\n",
       "      <td>85</td>\n",
       "      <td>0</td>\n",
       "      <td>0</td>\n",
       "    </tr>\n",
       "    <tr>\n",
       "      <th>207939</th>\n",
       "      <td>Carl Dobkins_ Jr.</td>\n",
       "      <td>Logged In</td>\n",
       "      <td>Alexander</td>\n",
       "      <td>M</td>\n",
       "      <td>92</td>\n",
       "      <td>Garcia</td>\n",
       "      <td>120.21506</td>\n",
       "      <td>paid</td>\n",
       "      <td>Indianapolis-Carmel-Anderson, IN</td>\n",
       "      <td>PUT</td>\n",
       "      <td>NextSong</td>\n",
       "      <td>1536817381000</td>\n",
       "      <td>508</td>\n",
       "      <td>My Heart Is An Open Book</td>\n",
       "      <td>200</td>\n",
       "      <td>1539325590000</td>\n",
       "      <td>Mozilla/5.0 (Windows NT 6.1; WOW64; rv:31.0) G...</td>\n",
       "      <td>105</td>\n",
       "      <td>0</td>\n",
       "      <td>1</td>\n",
       "    </tr>\n",
       "    <tr>\n",
       "      <th>270649</th>\n",
       "      <td>None</td>\n",
       "      <td>Logged In</td>\n",
       "      <td>Jayden</td>\n",
       "      <td>M</td>\n",
       "      <td>35</td>\n",
       "      <td>Santos</td>\n",
       "      <td>NaN</td>\n",
       "      <td>free</td>\n",
       "      <td>Dallas-Fort Worth-Arlington, TX</td>\n",
       "      <td>GET</td>\n",
       "      <td>Help</td>\n",
       "      <td>1533812833000</td>\n",
       "      <td>67</td>\n",
       "      <td>None</td>\n",
       "      <td>200</td>\n",
       "      <td>1539075198000</td>\n",
       "      <td>\"Mozilla/5.0 (Macintosh; Intel Mac OS X 10_10)...</td>\n",
       "      <td>100018</td>\n",
       "      <td>0</td>\n",
       "      <td>0</td>\n",
       "    </tr>\n",
       "    <tr>\n",
       "      <th>202384</th>\n",
       "      <td>None</td>\n",
       "      <td>Logged In</td>\n",
       "      <td>Micah</td>\n",
       "      <td>M</td>\n",
       "      <td>67</td>\n",
       "      <td>Long</td>\n",
       "      <td>NaN</td>\n",
       "      <td>paid</td>\n",
       "      <td>Boston-Cambridge-Newton, MA-NH</td>\n",
       "      <td>GET</td>\n",
       "      <td>Settings</td>\n",
       "      <td>1538331630000</td>\n",
       "      <td>2334</td>\n",
       "      <td>None</td>\n",
       "      <td>200</td>\n",
       "      <td>1543319750000</td>\n",
       "      <td>\"Mozilla/5.0 (Windows NT 6.1; WOW64) AppleWebK...</td>\n",
       "      <td>9</td>\n",
       "      <td>0</td>\n",
       "      <td>0</td>\n",
       "    </tr>\n",
       "    <tr>\n",
       "      <th>187651</th>\n",
       "      <td>Lifehouse</td>\n",
       "      <td>Logged In</td>\n",
       "      <td>Andrew</td>\n",
       "      <td>M</td>\n",
       "      <td>161</td>\n",
       "      <td>Poole</td>\n",
       "      <td>259.89179</td>\n",
       "      <td>paid</td>\n",
       "      <td>Greensboro-High Point, NC</td>\n",
       "      <td>PUT</td>\n",
       "      <td>NextSong</td>\n",
       "      <td>1541223737000</td>\n",
       "      <td>1719</td>\n",
       "      <td>The End Has Only Begun</td>\n",
       "      <td>200</td>\n",
       "      <td>1541744505000</td>\n",
       "      <td>\"Mozilla/5.0 (Windows NT 6.1; WOW64) AppleWebK...</td>\n",
       "      <td>153</td>\n",
       "      <td>0</td>\n",
       "      <td>0</td>\n",
       "    </tr>\n",
       "    <tr>\n",
       "      <th>250710</th>\n",
       "      <td>The Verve</td>\n",
       "      <td>Logged In</td>\n",
       "      <td>Saul</td>\n",
       "      <td>M</td>\n",
       "      <td>4</td>\n",
       "      <td>Johnson</td>\n",
       "      <td>360.25424</td>\n",
       "      <td>paid</td>\n",
       "      <td>Houston-The Woodlands-Sugar Land, TX</td>\n",
       "      <td>PUT</td>\n",
       "      <td>NextSong</td>\n",
       "      <td>1531804365000</td>\n",
       "      <td>1763</td>\n",
       "      <td>Bitter Sweet Symphony</td>\n",
       "      <td>200</td>\n",
       "      <td>1542011203000</td>\n",
       "      <td>Mozilla/5.0 (Windows NT 6.1; WOW64; rv:31.0) G...</td>\n",
       "      <td>62</td>\n",
       "      <td>0</td>\n",
       "      <td>0</td>\n",
       "    </tr>\n",
       "    <tr>\n",
       "      <th>129529</th>\n",
       "      <td>P!nk</td>\n",
       "      <td>Logged In</td>\n",
       "      <td>Michael</td>\n",
       "      <td>M</td>\n",
       "      <td>270</td>\n",
       "      <td>Miller</td>\n",
       "      <td>227.02975</td>\n",
       "      <td>paid</td>\n",
       "      <td>Phoenix-Mesa-Scottsdale, AZ</td>\n",
       "      <td>PUT</td>\n",
       "      <td>NextSong</td>\n",
       "      <td>1537014411000</td>\n",
       "      <td>1400</td>\n",
       "      <td>Glitter In The Air</td>\n",
       "      <td>200</td>\n",
       "      <td>1541019841000</td>\n",
       "      <td>Mozilla/5.0 (Macintosh; Intel Mac OS X 10.8; r...</td>\n",
       "      <td>60</td>\n",
       "      <td>0</td>\n",
       "      <td>0</td>\n",
       "    </tr>\n",
       "    <tr>\n",
       "      <th>17678</th>\n",
       "      <td>Rytmus</td>\n",
       "      <td>Logged In</td>\n",
       "      <td>Sadie</td>\n",
       "      <td>F</td>\n",
       "      <td>217</td>\n",
       "      <td>Jones</td>\n",
       "      <td>254.24934</td>\n",
       "      <td>paid</td>\n",
       "      <td>Denver-Aurora-Lakewood, CO</td>\n",
       "      <td>PUT</td>\n",
       "      <td>NextSong</td>\n",
       "      <td>1537054553000</td>\n",
       "      <td>2065</td>\n",
       "      <td>Ani jeden skurvy me nezastavi (Explicit)</td>\n",
       "      <td>200</td>\n",
       "      <td>1542832017000</td>\n",
       "      <td>\"Mozilla/5.0 (Macintosh; Intel Mac OS X 10_9_4...</td>\n",
       "      <td>132</td>\n",
       "      <td>0</td>\n",
       "      <td>0</td>\n",
       "    </tr>\n",
       "    <tr>\n",
       "      <th>219436</th>\n",
       "      <td>Violadores del Verso</td>\n",
       "      <td>Logged In</td>\n",
       "      <td>Lauren</td>\n",
       "      <td>F</td>\n",
       "      <td>177</td>\n",
       "      <td>Boone</td>\n",
       "      <td>325.72036</td>\n",
       "      <td>paid</td>\n",
       "      <td>St. Louis, MO-IL</td>\n",
       "      <td>PUT</td>\n",
       "      <td>NextSong</td>\n",
       "      <td>1534859694000</td>\n",
       "      <td>76</td>\n",
       "      <td>Nada mas</td>\n",
       "      <td>200</td>\n",
       "      <td>1539279730000</td>\n",
       "      <td>\"Mozilla/5.0 (Windows NT 6.1; WOW64) AppleWebK...</td>\n",
       "      <td>300009</td>\n",
       "      <td>0</td>\n",
       "      <td>0</td>\n",
       "    </tr>\n",
       "  </tbody>\n",
       "</table>\n",
       "</div>"
      ],
      "text/plain": [
       "                      artist       auth  firstName gender  itemInSession  \\\n",
       "187258                The xx  Logged In      Elias      M             30   \n",
       "52080                   None  Logged In    Brayden      M             30   \n",
       "207939     Carl Dobkins_ Jr.  Logged In  Alexander      M             92   \n",
       "270649                  None  Logged In     Jayden      M             35   \n",
       "202384                  None  Logged In      Micah      M             67   \n",
       "187651             Lifehouse  Logged In     Andrew      M            161   \n",
       "250710             The Verve  Logged In       Saul      M              4   \n",
       "129529                  P!nk  Logged In    Michael      M            270   \n",
       "17678                 Rytmus  Logged In      Sadie      F            217   \n",
       "219436  Violadores del Verso  Logged In     Lauren      F            177   \n",
       "\n",
       "       lastName     length level                              location method  \\\n",
       "187258     Love  313.39057  paid                           Salinas, CA    PUT   \n",
       "52080    Thomas        NaN  paid    Los Angeles-Long Beach-Anaheim, CA    GET   \n",
       "207939   Garcia  120.21506  paid      Indianapolis-Carmel-Anderson, IN    PUT   \n",
       "270649   Santos        NaN  free       Dallas-Fort Worth-Arlington, TX    GET   \n",
       "202384     Long        NaN  paid        Boston-Cambridge-Newton, MA-NH    GET   \n",
       "187651    Poole  259.89179  paid             Greensboro-High Point, NC    PUT   \n",
       "250710  Johnson  360.25424  paid  Houston-The Woodlands-Sugar Land, TX    PUT   \n",
       "129529   Miller  227.02975  paid           Phoenix-Mesa-Scottsdale, AZ    PUT   \n",
       "17678     Jones  254.24934  paid            Denver-Aurora-Lakewood, CO    PUT   \n",
       "219436    Boone  325.72036  paid                      St. Louis, MO-IL    PUT   \n",
       "\n",
       "            page   registration  sessionId  \\\n",
       "187258  NextSong  1532696273000        348   \n",
       "52080       Home  1534133898000        734   \n",
       "207939  NextSong  1536817381000        508   \n",
       "270649      Help  1533812833000         67   \n",
       "202384  Settings  1538331630000       2334   \n",
       "187651  NextSong  1541223737000       1719   \n",
       "250710  NextSong  1531804365000       1763   \n",
       "129529  NextSong  1537014411000       1400   \n",
       "17678   NextSong  1537054553000       2065   \n",
       "219436  NextSong  1534859694000         76   \n",
       "\n",
       "                                            song  status             ts  \\\n",
       "187258                                  Infinity     200  1542409487000   \n",
       "52080                                       None     200  1539320124000   \n",
       "207939                  My Heart Is An Open Book     200  1539325590000   \n",
       "270649                                      None     200  1539075198000   \n",
       "202384                                      None     200  1543319750000   \n",
       "187651                    The End Has Only Begun     200  1541744505000   \n",
       "250710                     Bitter Sweet Symphony     200  1542011203000   \n",
       "129529                        Glitter In The Air     200  1541019841000   \n",
       "17678   Ani jeden skurvy me nezastavi (Explicit)     200  1542832017000   \n",
       "219436                                  Nada mas     200  1539279730000   \n",
       "\n",
       "                                                userAgent  userId  Churned  \\\n",
       "187258  \"Mozilla/5.0 (Windows NT 6.1; WOW64) AppleWebK...  200025        0   \n",
       "52080   \"Mozilla/5.0 (Macintosh; Intel Mac OS X 10_9_4...      85        0   \n",
       "207939  Mozilla/5.0 (Windows NT 6.1; WOW64; rv:31.0) G...     105        0   \n",
       "270649  \"Mozilla/5.0 (Macintosh; Intel Mac OS X 10_10)...  100018        0   \n",
       "202384  \"Mozilla/5.0 (Windows NT 6.1; WOW64) AppleWebK...       9        0   \n",
       "187651  \"Mozilla/5.0 (Windows NT 6.1; WOW64) AppleWebK...     153        0   \n",
       "250710  Mozilla/5.0 (Windows NT 6.1; WOW64; rv:31.0) G...      62        0   \n",
       "129529  Mozilla/5.0 (Macintosh; Intel Mac OS X 10.8; r...      60        0   \n",
       "17678   \"Mozilla/5.0 (Macintosh; Intel Mac OS X 10_9_4...     132        0   \n",
       "219436  \"Mozilla/5.0 (Windows NT 6.1; WOW64) AppleWebK...  300009        0   \n",
       "\n",
       "        churn  \n",
       "187258      0  \n",
       "52080       0  \n",
       "207939      1  \n",
       "270649      0  \n",
       "202384      0  \n",
       "187651      0  \n",
       "250710      0  \n",
       "129529      0  \n",
       "17678       0  \n",
       "219436      0  "
      ]
     },
     "execution_count": 142,
     "metadata": {},
     "output_type": "execute_result"
    }
   ],
   "source": [
    "explore_data.sample(10)"
   ]
  },
  {
   "cell_type": "code",
   "execution_count": 135,
   "metadata": {},
   "outputs": [
    {
     "data": {
      "text/plain": [
       "churn\n",
       "0    173\n",
       "1     52\n",
       "Name: userId, dtype: int64"
      ]
     },
     "execution_count": 135,
     "metadata": {},
     "output_type": "execute_result"
    }
   ],
   "source": [
    "\n",
    "# check churned and non churned users\n",
    "\n",
    "explore_data.drop_duplicates(subset='userId').groupby(['churn'])['userId'].count()"
   ]
  },
  {
   "cell_type": "code",
   "execution_count": 136,
   "metadata": {},
   "outputs": [],
   "source": [
    "# Plot function to visualize some Data\n",
    "\n",
    "def plot(subset, group, labels, x_title=\"Num. of users\", y_title=\"Sub. Status\"):\n",
    "    \n",
    "    ax = explore_data.drop_duplicates(subset=subset).groupby(group)['userId'].count().plot(kind='barh',title='Num. of users per category')\n",
    "    \n",
    "    ax.set_xlabel(x_title)\n",
    "    ax.set_yticklabels(labels)\n",
    "    ax.set_ylabel(y_title)\n",
    "    "
   ]
  },
  {
   "cell_type": "code",
   "execution_count": 137,
   "metadata": {
    "scrolled": true
   },
   "outputs": [
    {
     "data": {
      "image/png": "[encoded data removed]",
      "text/plain": [
       "<matplotlib.figure.Figure at 0x7f93081bfc50>"
      ]
     },
     "metadata": {
      "needs_background": "light"
     },
     "output_type": "display_data"
    }
   ],
   "source": [
    "plot(subset = ['userId'], group = ['churn'], labels = ['Active Users', 'Cancelled Users'])"
   ]
  },
  {
   "cell_type": "code",
   "execution_count": 138,
   "metadata": {},
   "outputs": [
    {
     "data": {
      "text/plain": [
       "gender  churn\n",
       "F       0        84\n",
       "        1        20\n",
       "M       0        89\n",
       "        1        32\n",
       "Name: gender, dtype: int64"
      ]
     },
     "execution_count": 138,
     "metadata": {},
     "output_type": "execute_result"
    }
   ],
   "source": [
    "# check churned and non churned users by Gender\n",
    "\n",
    "explore_data.drop_duplicates(subset='userId').groupby(['gender', 'churn'])['gender'].count()"
   ]
  },
  {
   "cell_type": "code",
   "execution_count": 139,
   "metadata": {
    "scrolled": true
   },
   "outputs": [
    {
     "data": {
      "image/png": "[encoded data removed]",
      "text/plain": [
       "<matplotlib.figure.Figure at 0x7f92f2f37198>"
      ]
     },
     "metadata": {
      "needs_background": "light"
     },
     "output_type": "display_data"
    }
   ],
   "source": [
    "plot(subset=['userId', 'gender'], group = ['gender', 'churn'], labels = ['Female-Active', 'Female_Cancelled', 'Male_Active', 'Female_Cancelled'])"
   ]
  },
  {
   "cell_type": "code",
   "execution_count": 140,
   "metadata": {},
   "outputs": [
    {
     "data": {
      "text/plain": [
       "level  churn\n",
       "free   0        133\n",
       "       1         44\n",
       "paid   0         40\n",
       "       1          8\n",
       "Name: level, dtype: int64"
      ]
     },
     "execution_count": 140,
     "metadata": {},
     "output_type": "execute_result"
    }
   ],
   "source": [
    "# check churned and non churned users by Payment\n",
    "\n",
    "explore_data.drop_duplicates(subset='userId').groupby(['level', 'churn'])['level'].count()"
   ]
  },
  {
   "cell_type": "code",
   "execution_count": 141,
   "metadata": {},
   "outputs": [
    {
     "data": {
      "image/png": "[encoded data removed]",
      "text/plain": [
       "<matplotlib.figure.Figure at 0x7f930bd864e0>"
      ]
     },
     "metadata": {
      "needs_background": "light"
     },
     "output_type": "display_data"
    }
   ],
   "source": [
    "plot(subset=['userId', 'level'], group=['level', 'churn'], labels=['Free_Active', 'Free_Cancelled', 'Paid_Active', 'Paid_Cancelled'])"
   ]
  },
  {
   "cell_type": "markdown",
   "metadata": {},
   "source": [
    "# Feature Engineering\n",
    "Once you've familiarized yourself with the data, build out the features you find promising to train your model on. To work with the full dataset, you can follow the following steps.\n",
    "- Write a script to extract the necessary features from the smaller subset of data\n",
    "- Ensure that your script is scalable, using the best practices discussed in Lesson 3\n",
    "- Try your script on the full data set, debugging your script if necessary\n",
    "\n",
    "If you are working in the classroom workspace, you can just extract features based on the small subset of data contained here. Be sure to transfer over this work to the larger dataset when you work on your Spark cluster."
   ]
  },
  {
   "cell_type": "code",
   "execution_count": 106,
   "metadata": {},
   "outputs": [],
   "source": [
    "#gender feature \" replace str by int values\"\n",
    "\n",
    "\n",
    "gender = mydata.dropDuplicates(['userId']).sort('userId').select(['userId','gender'])\n",
    "gender = gender.replace(['F','M'], ['1', '0'], 'gender')\n",
    "gender = gender.withColumn('gender', gender.gender.cast(\"int\"))\n",
    "\n",
    "gender.createOrReplaceTempView('gender')"
   ]
  },
  {
   "cell_type": "code",
   "execution_count": 107,
   "metadata": {},
   "outputs": [],
   "source": [
    "#number of songs played per user \n",
    "\n",
    "songs = mydata.where(mydata.song!='null').groupby('userId')\n",
    "songs= songs.agg(count(mydata.song).alias('Played_Songs')).orderBy('userId')\n",
    "songs = songs.select(['userId','Played_Songs'])\n",
    "\n",
    "songs.createOrReplaceTempView('songs')"
   ]
  },
  {
   "cell_type": "code",
   "execution_count": 108,
   "metadata": {},
   "outputs": [],
   "source": [
    "# number of listened singers per user \n",
    "\n",
    "listened_singers_per_user = mydata.dropDuplicates(['userId','artist']).groupby('userId')\n",
    "listened_singers_per_user = listened_singers_per_user.agg(count(mydata.artist).alias('Listened_Singers')).orderBy('userId')\n",
    "listened_singers_per_user = listened_singers_per_user.select(['userId','Listened_Singers'])\n",
    "\n",
    "listened_singers_per_user.createOrReplaceTempView('listened_singers_per_user')"
   ]
  },
  {
   "cell_type": "code",
   "execution_count": 109,
   "metadata": {},
   "outputs": [],
   "source": [
    "#thumbs_Down\n",
    "\n",
    "thumbs_Down = mydata.where(mydata.page=='Thumbs Down').groupby(['userId'])\n",
    "thumbs_Down = thumbs_Down.agg(count(col('page')).alias('thumbs_down')).orderBy('userId')\n",
    "thumbs_Down = thumbs_Down.select(['userId','thumbs_down'])\n",
    "\n",
    "thumbs_Down.createOrReplaceTempView('thumbs_Down')"
   ]
  },
  {
   "cell_type": "code",
   "execution_count": 110,
   "metadata": {},
   "outputs": [],
   "source": [
    "#thumbs_Up\n",
    "\n",
    "thumbs_Up = mydata.where(mydata.page=='Thumbs Up').groupby(['userId'])\n",
    "thumbs_Up = thumbs_Up.agg(count(col('page')).alias('thumbs_Up')).orderBy('userId')\n",
    "thumbs_Up = thumbs_Up.select(['userId','thumbs_Up'])\n",
    "\n",
    "thumbs_Up.createOrReplaceTempView('thumbs_Up')"
   ]
  },
  {
   "cell_type": "markdown",
   "metadata": {},
   "source": [
    "# Modeling\n",
    "Split the full dataset into train, test, and validation sets. Test out several of the machine learning methods you learned. Evaluate the accuracy of the various models, tuning parameters as necessary. Determine your winning model based on test accuracy and report results on the validation set. Since the churned users are a fairly small subset, I suggest using F1 score as the metric to optimize."
   ]
  },
  {
   "cell_type": "code",
   "execution_count": 111,
   "metadata": {},
   "outputs": [],
   "source": [
    "# join features\n",
    "\n",
    "Data = churn.dropDuplicates(['userId']).sort('userId').select(['userId','Churned'])\n",
    "for selected_features in [ gender, songs, listened_singers_per_user, thumbs_Up, thumbs_Down]:\n",
    "    Data = Data.join(selected_features,'userId')\n"
   ]
  },
  {
   "cell_type": "code",
   "execution_count": 112,
   "metadata": {},
   "outputs": [],
   "source": [
    "# convert data type into float\n",
    "for selected_features in Data.columns[1:]:\n",
    "    Data = Data.withColumn(selected_features,Data[selected_features].cast('float'))"
   ]
  },
  {
   "cell_type": "code",
   "execution_count": 113,
   "metadata": {
    "scrolled": true
   },
   "outputs": [
    {
     "data": {
      "text/plain": [
       "[('userId', 'string'),\n",
       " ('Churned', 'float'),\n",
       " ('gender', 'float'),\n",
       " ('Played_Songs', 'float'),\n",
       " ('Listened_Singers', 'float'),\n",
       " ('thumbs_Up', 'float'),\n",
       " ('thumbs_down', 'float')]"
      ]
     },
     "execution_count": 113,
     "metadata": {},
     "output_type": "execute_result"
    }
   ],
   "source": [
    "Data.dtypes"
   ]
  },
  {
   "cell_type": "code",
   "execution_count": 114,
   "metadata": {},
   "outputs": [],
   "source": [
    "# split our data into train and test sets\n",
    "\n",
    "train_set, test_set = Data.randomSplit([0.8, 0.2])"
   ]
  },
  {
   "cell_type": "code",
   "execution_count": 115,
   "metadata": {},
   "outputs": [],
   "source": [
    "assembler = VectorAssembler(inputCols=Data.columns[2:],outputCol='featuresassemble')\n",
    "scaler = StandardScaler(inputCol=\"featuresassemble\", outputCol=\"features\")\n",
    "indexer = StringIndexer(inputCol=\"Churned\", outputCol=\"label\")\n",
    "stringIndexer = StringIndexer(inputCol=\"label\", outputCol=\"indexed\")\n",
    "RandomForestClassifier = RandomForestClassifier(numTrees=3, maxDepth=2, labelCol=\"indexed\")\n",
    "LogisticRegression =  LogisticRegression(maxIter=100, regParam=0.0, elasticNetParam=0)"
   ]
  },
  {
   "cell_type": "code",
   "execution_count": 116,
   "metadata": {},
   "outputs": [
    {
     "name": "stdout",
     "output_type": "stream",
     "text": [
      "The training process take 923.1168491840363 seconds\n"
     ]
    },
    {
     "data": {
      "text/plain": [
       "[0.8297728719764362, 0.8256805908727608, 0.8256805908727608]"
      ]
     },
     "execution_count": 116,
     "metadata": {},
     "output_type": "execute_result"
    }
   ],
   "source": [
    "LogisticRegression_pipeline = Pipeline(stages=[assembler, scaler, indexer, LogisticRegression])\n",
    "\n",
    "paramGrid_LogisticRegression = ParamGridBuilder().addGrid(LogisticRegression.regParam,[0.0, 0.1, 0.01]).build()\n",
    "\n",
    "CrossValidator_LogisticRegression = CrossValidator(estimator=LogisticRegression_pipeline,estimatorParamMaps=paramGrid_LogisticRegression,\n",
    "                                    evaluator=MulticlassClassificationEvaluator(metricName = 'f1'),numFolds=3)\n",
    "\n",
    "start_time = time()\n",
    "CrossValidator_LogisticRegression_Model = CrossValidator_LogisticRegression.fit(train_set)\n",
    "end_time = time()\n",
    "\n",
    "print('The training process take {} seconds'.format(end_time - start_time))\n",
    "\n",
    "CrossValidator_LogisticRegression_Model.avgMetrics"
   ]
  },
  {
   "cell_type": "code",
   "execution_count": 117,
   "metadata": {},
   "outputs": [
    {
     "name": "stdout",
     "output_type": "stream",
     "text": [
      "The training process take 617.9057967662811 seconds\n"
     ]
    },
    {
     "data": {
      "text/plain": [
       "[0.8256805908727608, 0.8256805908727608]"
      ]
     },
     "execution_count": 117,
     "metadata": {},
     "output_type": "execute_result"
    }
   ],
   "source": [
    "RandomForest_pipeline = Pipeline(stages=[assembler, scaler, indexer, stringIndexer, RandomForestClassifier])\n",
    "\n",
    "paramGrid_RandomForest = ParamGridBuilder().addGrid(RandomForestClassifier.numTrees,[10, 30]).build()\n",
    "\n",
    "CrossValidator_RandomForest = CrossValidator(estimator=RandomForest_pipeline,estimatorParamMaps=paramGrid_RandomForest,\n",
    "                              evaluator=MulticlassClassificationEvaluator(metricName = 'f1'),numFolds=3)\n",
    "\n",
    "start_time = time()\n",
    "CrossValidator_RandomForest_Model = CrossValidator_RandomForest.fit(train_set)\n",
    "end_time = time()\n",
    "\n",
    "print('The training process take {} seconds'.format(end_time - start_time))\n",
    "\n",
    "CrossValidator_RandomForest_Model.avgMetrics"
   ]
  },
  {
   "cell_type": "markdown",
   "metadata": {},
   "source": [
    "# Performance of models\n"
   ]
  },
  {
   "cell_type": "code",
   "execution_count": 120,
   "metadata": {},
   "outputs": [],
   "source": [
    "def performance(model, test_data, metric = 'f1'):\n",
    "    \n",
    "    \"\"\"\n",
    "    \n",
    "    this function to Evaluate model performance \n",
    "    \n",
    "        Input: \n",
    "            model - trained model\n",
    "            metric - used metric to evaluate performance\n",
    "            data - test set that performance measurement should be performed\n",
    "            \n",
    "        Output:\n",
    "            evaluated_score\n",
    "    \"\"\"\n",
    "    \n",
    "    evaluator = BinaryClassificationEvaluator(metricName = 'areaUnderROC')\n",
    "    \n",
    "    predictions = model.transform(test_data)\n",
    "    \n",
    "    # evaluated_score\n",
    "    evaluated_score = evaluator.evaluate(predictions)\n",
    "    \n",
    "    return evaluated_score"
   ]
  },
  {
   "cell_type": "code",
   "execution_count": 121,
   "metadata": {},
   "outputs": [],
   "source": [
    "model_RandomForest_fitted = RandomForest_pipeline.fit(train_set)\n",
    "model_LogisticRegression_fitted = LogisticRegression_pipeline.fit(train_set)"
   ]
  },
  {
   "cell_type": "code",
   "execution_count": 122,
   "metadata": {},
   "outputs": [
    {
     "data": {
      "text/plain": [
       "0.49107142857142855"
      ]
     },
     "execution_count": 122,
     "metadata": {},
     "output_type": "execute_result"
    }
   ],
   "source": [
    "performance(model_RandomForest_fitted, test_set)"
   ]
  },
  {
   "cell_type": "code",
   "execution_count": 123,
   "metadata": {},
   "outputs": [
    {
     "data": {
      "text/plain": [
       "0.7202380952380952"
      ]
     },
     "execution_count": 123,
     "metadata": {},
     "output_type": "execute_result"
    }
   ],
   "source": [
    "performance(model_LogisticRegression_fitted, test_set)"
   ]
  },
  {
   "cell_type": "markdown",
   "metadata": {},
   "source": [
    "# Final Steps\n",
    "Clean up your code, adding comments and renaming variables to make the code easier to read and maintain. Refer to the Spark Project Overview page and Data Scientist Capstone Project Rubric to make sure you are including all components of the capstone project and meet all expectations. Remember, this includes thorough documentation in a README file in a Github repository, as well as a web app or blog post."
   ]
  },
  {
   "cell_type": "code",
   "execution_count": null,
   "metadata": {},
   "outputs": [],
   "source": []
  }
 ],
 "metadata": {
  "kernelspec": {
   "display_name": "Python 3",
   "language": "python",
   "name": "python3"
  },
  "language_info": {
   "codemirror_mode": {
    "name": "ipython",
    "version": 3
   },
   "file_extension": ".py",
   "mimetype": "text/x-python",
   "name": "python",
   "nbconvert_exporter": "python",
   "pygments_lexer": "ipython3",
   "version": "3.6.3"
  }
 },
 "nbformat": 4,
 "nbformat_minor": 2
}
